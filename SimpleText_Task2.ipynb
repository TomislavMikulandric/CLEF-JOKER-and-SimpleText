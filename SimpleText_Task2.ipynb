{
 "cells": [
  {
   "cell_type": "code",
   "execution_count": null,
   "metadata": {
    "colab": {
     "base_uri": "https://localhost:8080/"
    },
    "id": "Xnx9cb3dDXGV",
    "outputId": "a32ff2fc-5b69-453c-ab74-5f445d5ab783"
   },
   "outputs": [
    {
     "name": "stdout",
     "output_type": "stream",
     "text": [
      "Drive already mounted at /content/drive; to attempt to forcibly remount, call drive.mount(\"/content/drive\", force_remount=True).\n"
     ]
    }
   ],
   "source": [
    "from google.colab import drive\n",
    "drive.mount('/content/drive')"
   ]
  },
  {
   "cell_type": "code",
   "execution_count": null,
   "metadata": {
    "id": "BHzzvnaNCTOj"
   },
   "outputs": [],
   "source": [
    "YOUR_KEY_HERE=\"KEYKEYKEYKEYKEY\""
   ]
  },
  {
   "cell_type": "code",
   "execution_count": null,
   "metadata": {
    "id": "iXWv1lU0DorA"
   },
   "outputs": [],
   "source": [
    "!pip install -q langchain replicate"
   ]
  },
  {
   "cell_type": "code",
   "execution_count": null,
   "metadata": {
    "id": "1TT216taDej_"
   },
   "outputs": [],
   "source": [
    "from typing import Dict, List\n",
    "from langchain.llms import Replicate\n",
    "from langchain.memory import ChatMessageHistory\n",
    "from langchain.schema.messages import get_buffer_string\n",
    "import os\n",
    "\n",
    "os.environ[\"REPLICATE_API_TOKEN\"] = YOUR_KEY_HERE"
   ]
  },
  {
   "cell_type": "code",
   "execution_count": null,
   "metadata": {
    "id": "ukXlfPcKDkqq"
   },
   "outputs": [],
   "source": [
    "LLAMA2_13B_CHAT = \"meta/llama-2-13b-chat:f4e2de70d66816a838a89eeeb621910adffb0dd0baba3976c96980970978018d\""
   ]
  },
  {
   "cell_type": "code",
   "execution_count": null,
   "metadata": {
    "id": "U_iZaM_NDvvM"
   },
   "outputs": [],
   "source": [
    "DEFAULT_MODEL = LLAMA2_13B_CHAT\n",
    "\n",
    "def completion(\n",
    "    prompt: str,\n",
    "    model: str = DEFAULT_MODEL,\n",
    "    temperature: float = 0.6,\n",
    "    top_p: float = 0.9,\n",
    ") -> str:\n",
    "    llm = Replicate(\n",
    "        model=model,\n",
    "        model_kwargs={\"temperature\": temperature,\"top_p\": top_p, \"max_new_tokens\": 1000}\n",
    "    )\n",
    "    return llm(prompt)\n",
    "\n",
    "def chat_completion(\n",
    "    messages: List[Dict],\n",
    "    model = DEFAULT_MODEL,\n",
    "    temperature: float = 0.6,\n",
    "    top_p: float = 0.9,\n",
    ") -> str:\n",
    "    history = ChatMessageHistory()\n",
    "    for message in messages:\n",
    "        if message[\"role\"] == \"user\":\n",
    "            history.add_user_message(message[\"content\"])\n",
    "        elif message[\"role\"] == \"assistant\":\n",
    "            history.add_ai_message(message[\"content\"])\n",
    "        else:\n",
    "            raise Exception(\"Unknown role\")\n",
    "    return completion(\n",
    "        get_buffer_string(\n",
    "            history.messages,\n",
    "            human_prefix=\"USER\",\n",
    "            ai_prefix=\"ASSISTANT\",\n",
    "        ),\n",
    "        model,\n",
    "        temperature,\n",
    "        top_p,\n",
    "    )\n",
    "\n",
    "def assistant(content: str):\n",
    "    return { \"role\": \"assistant\", \"content\": content }\n",
    "\n",
    "def user(content: str):\n",
    "    return { \"role\": \"user\", \"content\": content }\n",
    "\n",
    "def complete_and_print(prompt: str, model: str = DEFAULT_MODEL):\n",
    "    print(f'==============\\n{prompt}\\n==============')\n",
    "    response = completion(prompt, model)\n",
    "    print(response, end='\\n\\n')"
   ]
  },
  {
   "cell_type": "code",
   "execution_count": null,
   "metadata": {
    "id": "p_ZzJtSrD2-G"
   },
   "outputs": [],
   "source": [
    "import pandas as pd"
   ]
  },
  {
   "cell_type": "code",
   "execution_count": null,
   "metadata": {
    "colab": {
     "base_uri": "https://localhost:8080/",
     "height": 423
    },
    "id": "rNnyf2H5EJnc",
    "outputId": "fe0157d0-a204-4d24-e6eb-4a22847cd293"
   },
   "outputs": [],
   "source": [
    "simpleText_path = \"/content/drive/MyDrive/BIP/task 2/train/dataset\"\n",
    "\n",
    "terms=pd.read_csv('/content/drive/MyDrive/BIP/SimpleText/task 2/train/dataset/training/terms.tsv', delimiter = '\\t')\n",
    "definitions = pd.read_csv('/content/drive/MyDrive/BIP/SimpleText/task 2/train/dataset/training/definitions_explanations.tsv', delimiter = '\\t')\n",
    "documents = pd.read_csv('/content/drive/MyDrive/BIP/SimpleText/task 2/train/dataset/documents.tsv', delimiter = '\\t')\n",
    "documents"
   ]
  },
  {
   "cell_type": "code",
   "execution_count": null,
   "metadata": {
    "colab": {
     "base_uri": "https://localhost:8080/",
     "height": 206
    },
    "id": "69YntYnTKIGm",
    "outputId": "e96009c3-d322-457e-ad90-b81d0ff29b98"
   },
   "outputs": [],
   "source": [
    "definitions.head()"
   ]
  },
  {
   "cell_type": "code",
   "execution_count": null,
   "metadata": {
    "colab": {
     "base_uri": "https://localhost:8080/",
     "height": 597
    },
    "id": "yvXLDDiMId6w",
    "outputId": "bea32ebe-8a5a-480a-882e-363ae8eebf25"
   },
   "outputs": [],
   "source": [
    "merged = definitions.merge(documents, on='snt_id', how='left')\n",
    "merged"
   ]
  },
  {
   "cell_type": "code",
   "execution_count": null,
   "metadata": {
    "colab": {
     "base_uri": "https://localhost:8080/",
     "height": 423
    },
    "id": "DotAyGk-M2PB",
    "outputId": "926fe944-9781-4723-bc47-1e49edbea81d"
   },
   "outputs": [],
   "source": [
    "test = pd.read_csv('/content/drive/MyDrive/BIP/SimpleText/task 2/test/dataset/documents.tsv', delimiter = '\\t')\n",
    "test"
   ]
  },
  {
   "cell_type": "code",
   "execution_count": null,
   "metadata": {
    "id": "1AgCj9NBMDY9"
   },
   "outputs": [],
   "source": [
    "prompt_terms=\"\"\"\n",
    "    You are a robot that ONLY outputs JSON.\n",
    "    You reply in JSON format with the field 'terms'.\n",
    "    You provide ONLY semicolon-separated  list of MAXIMUM 3 scientific terms of a source sentence ONLY.\n",
    "    You DO NOT add 'Sure, Here are the scientific terms of your sentence:'.\n",
    "    Example source sentence: In the modern era of automation and robotics, \\\n",
    "    autonomous vehicles are currently the focus of academic and industrial research.? \\\n",
    "    Example answer: {'terms': 'robotics; autonomous vehicles'}\n",
    "    Now here is my sentence:\n",
    "\"\"\""
   ]
  },
  {
   "cell_type": "code",
   "execution_count": null,
   "metadata": {
    "colab": {
     "base_uri": "https://localhost:8080/",
     "height": 376
    },
    "id": "Nmza8swlMuST",
    "outputId": "9e94dec7-119a-4c71-b005-bf07d4ddfe09"
   },
   "outputs": [],
   "source": [
    "c=completion(prompt_terms+test['source_snt'][0])\n",
    "c"
   ]
  },
  {
   "cell_type": "code",
   "execution_count": null,
   "metadata": {
    "id": "xX4La1g3MuqE"
   },
   "outputs": [],
   "source": [
    "import json\n",
    "import re\n",
    "\n",
    "def extract_value_inside_curly_braces(text):\n",
    "    # Use regex to find the value inside curly braces\n",
    "    match = re.search(r\"\\{([^{}]*)\\}\", text)\n",
    "\n",
    "    if match:\n",
    "        return match.group(1)\n",
    "    else:\n",
    "        return None"
   ]
  },
  {
   "cell_type": "code",
   "execution_count": null,
   "metadata": {
    "id": "WIiiCrs3WivL"
   },
   "outputs": [],
   "source": [
    "def extract_terms_from_string(sentence):\n",
    "    # Use regex to find the terms inside curly braces\n",
    "    match = re.search(r\"\\{[^{}]*'terms':\\s*'([^']*)'\\}\", sentence)\n",
    "\n",
    "    if match:\n",
    "        return match.group(1)\n",
    "    else:\n",
    "        return None"
   ]
  },
  {
   "cell_type": "code",
   "execution_count": null,
   "metadata": {
    "id": "E1N6j34aPxYO"
   },
   "outputs": [],
   "source": [
    "test = test.head(5)\n",
    "test['all_terms'] = test['source_snt'].apply(lambda x: extract_terms_from_string(completion(prompt_terms + x)))\n",
    "test = test.dropna(subset=['all_terms'])\n",
    "test"
   ]
  },
  {
   "cell_type": "code",
   "execution_count": null,
   "metadata": {
    "id": "oC6SZapvQb2b"
   },
   "outputs": [],
   "source": [
    "test['term']=test['all_terms'].str.split(\";\")\n",
    "test=test.explode('term').reset_index(drop=True)\n",
    "test.drop_duplicates(inplace=True,subset=['snt_id','term'])\n",
    "test"
   ]
  },
  {
   "cell_type": "code",
   "execution_count": null,
   "metadata": {
    "id": "qNqLrJ5qXwb7"
   },
   "outputs": [],
   "source": [
    "prompt_difficulty=\"\"\"\n",
    "    You are a robot that rates the difficulty of different terms.\n",
    "    You provide ONE LEVEL o difficulty for scientific terms.\n",
    "    You need to consider two words as one term.\n",
    "    Provide ONE rating for the understablity difficulty of term provided.\n",
    "    There are 3 levels. You need to use: e for easy, m for medium and d for difficult.\n",
    "    Give the rating inside of curly braces like this {e}\n",
    "    You can reply with ONLY one word.\n",
    "    Example source: autonomous vehicles\n",
    "    Example answer: {'m'}\n",
    "    Now here is my sentence:\n",
    "\"\"\""
   ]
  },
  {
   "cell_type": "code",
   "execution_count": null,
   "metadata": {
    "id": "7WolzlbzYuqr"
   },
   "outputs": [],
   "source": [
    "c=completion(prompt_difficulty+test['term'][0])\n",
    "c"
   ]
  },
  {
   "cell_type": "code",
   "execution_count": null,
   "metadata": {
    "id": "2rGOAuXHYzly"
   },
   "outputs": [],
   "source": [
    "c = extract_value_inside_curly_braces(c)\n",
    "c"
   ]
  },
  {
   "cell_type": "code",
   "execution_count": null,
   "metadata": {
    "id": "7ihfZdusY2kw"
   },
   "outputs": [],
   "source": [
    "test['difficulty'] = test['term'].apply(lambda x: extract_value_inside_curly_braces(completion(prompt_difficulty + x)))\n",
    "test"
   ]
  },
  {
   "cell_type": "code",
   "execution_count": null,
   "metadata": {
    "id": "Ead5_nRVZqZZ"
   },
   "outputs": [],
   "source": [
    "!pip install wikipedia"
   ]
  },
  {
   "cell_type": "code",
   "execution_count": null,
   "metadata": {
    "id": "7Au1K83QbsOF"
   },
   "outputs": [],
   "source": [
    "import wikipedia\n",
    "\n",
    "def get_wikipedia_definition(term):\n",
    "    try:\n",
    "        # Fetch Wikipedia summary for the term\n",
    "        summary = wikipedia.summary(term)\n",
    "        return summary\n",
    "    except wikipedia.exceptions.DisambiguationError as e:\n",
    "        # If there's a disambiguation error, handle it as needed\n",
    "        return \"DisambiguationError: Ambiguous term\"\n",
    "    except wikipedia.exceptions.PageError as e:\n",
    "        # If the page doesn't exist, handle it as needed\n",
    "        return \"PageError: Term not found\"\n",
    "    except Exception as e:\n",
    "        # Handle other exceptions\n",
    "        return str(e)\n",
    "\n",
    "# Assuming test['difficulty'] contains terms for which you want Wikipedia definitions\n",
    "#test['wiki'] = test['term'].apply(get_wikipedia_definition)\n",
    "test.loc[test['difficulty'] == 'd', 'wiki'] = test.loc[test['difficulty'] == 'd', 'term'].apply(get_wikipedia_definition)\n",
    "test"
   ]
  },
  {
   "cell_type": "code",
   "execution_count": null,
   "metadata": {
    "id": "wQF01-_ybwmh"
   },
   "outputs": [],
   "source": [
    "prompt_explanation=\"\"\"\n",
    "    You are a robot that explains difficult scientific terms.\n",
    "    DO NOT add intro like \"Sure, I'd be happy to help!\"\n",
    "    Use only once sentance and wrap the sentance in curly braces.\n",
    "    Don’t justify your answers. Don’t give information not mentioned in the CONTEXT INFORMATION.\n",
    "    Example source: wireless network environment\n",
    "    Example answer: {'a system in which devices makes use of Radio Frequency connections between nodes in the network\ta system in which devices are connected to a network without the need for physical cables or wires'}\n",
    "    Example source: Bluetooth wireless technology\n",
    "    Example answer: {'short-range wireless communication technology that allows devices to connect and exchange data.\tIt facilitates data exchange between devices like smartphones, computers, and peripherals such as headphones or medical devices. Bluetooth technology eliminates the need for physical cables, providing convenience and versatility in device connectivity.'}\n",
    "    Example source: application\n",
    "    Example answer: {'software program or tool designed to perform specific tasks or functions on electronic devices.\tIt can range from productivity tools and games to utilities and communication platforms on electronic devices such as computers, smartphones, or tablets.'}\n",
    "    Example source: PDA\n",
    "    Example answer: {'PDA is the acronym for personal digital assistant, which is a handheld electronic device designed for personal organization, communication, and information access. PDAs may include features such as calendars, contact lists, and note-taking capabilities, serving as portable tools for managing daily tasks.\tPDA is the acronym for personal digital assistant, which is a handheld electronic device crafted for personal organization, communication, and information retrieval. PDAs often incorporate features like calendars, contact lists, and note-taking capabilities, functioning as portable tools for managing daily tasks and staying connected. While modern smartphones have largely replaced traditional PDAs, the concept influenced the development of contemporary mobile devices.'}\n",
    "    Example source: pilot study\n",
    "    Example answer: {'a preliminary research investigation conducted on a small scale to assess the feasibility, and potential challenges of a larger research project.\tan initial and smaller-scale research investigation undertaken to evaluate the feasibility, methodology, and potential obstacles of a larger research project. It serves as a testing ground to refine the study design, identify logistical issues, and enhance the overall robustness and effectiveness of the planned full-scale research endeavor.'}\n",
    "    Now here is my ONE sentence explanation:\n",
    "\"\"\""
   ]
  },
  {
   "cell_type": "code",
   "execution_count": null,
   "metadata": {
    "id": "TEAY1fOf-EQm"
   },
   "outputs": [],
   "source": [
    "test.loc[test['difficulty'] == 'd', 'explanation'] = test.loc[test['difficulty'] == 'd', 'term'].apply(lambda x: completion(prompt_explanation + x))\n",
    "test"
   ]
  },
  {
   "cell_type": "code",
   "execution_count": null,
   "metadata": {
    "id": "UDWTTBSTc6DV"
   },
   "outputs": [],
   "source": [
    "c=completion(prompt_explanation+test['term'][0])\n",
    "c"
   ]
  },
  {
   "cell_type": "code",
   "execution_count": null,
   "metadata": {
    "id": "FRkcvEl94SMo"
   },
   "outputs": [],
   "source": [
    "import re\n",
    "\n",
    "def remove_redundant_text(text):\n",
    "    # Define patterns to search for\n",
    "    patterns = [\n",
    "        r'^Hey there!',\n",
    "        r'^Sure!',\n",
    "        r'^As a scientific journalist,',\n",
    "        r'I\\'m here to break down a complex study into simple terms for you\\.',\n",
    "        r'Here\\'s a simplified version of the text',\n",
    "        r'Let me break it down for you:',\n",
    "        r'I\\'m here to break down a complex study into simple terms for you\\.',\n",
    "        r'I\\'m here to break down complex scientific concepts into simple, easy-to-understand language.',\n",
    "        r'I\\'m here to break down a complex topic into simpler terms for you. So, let\\'s talk about',\n",
    "        r'Here is my one sentence explanation of'\n",
    "\n",
    "    ]\n",
    "    # Compile regular expressions\n",
    "    regex_patterns = [re.compile(pattern) for pattern in patterns]\n",
    "\n",
    "    # Remove patterns from text\n",
    "    for pattern in regex_patterns:\n",
    "        text = re.sub(pattern, '', text).strip()\n",
    "\n",
    "    return text"
   ]
  },
  {
   "cell_type": "code",
   "execution_count": null,
   "metadata": {
    "id": "IJMc5a8NdBIP"
   },
   "outputs": [],
   "source": [
    "def remove_first_line(text):\n",
    "    if isinstance(text, str):\n",
    "        lines = text.split('\\n')\n",
    "        # Check if there are multiple lines\n",
    "        if len(lines) > 1:\n",
    "            # Join the lines after the first one\n",
    "            return '\\n'.join(lines[1:])\n",
    "    return text\n",
    "\n",
    "# Assuming 'test' DataFrame is already defined\n",
    "test['explanation'] = test['explanation'].apply(remove_first_line)\n",
    "\n",
    "# Print the updated DataFrame\n",
    "print(test)\n"
   ]
  },
  {
   "cell_type": "code",
   "execution_count": null,
   "metadata": {
    "id": "lc_ZbfCaj-_j"
   },
   "outputs": [],
   "source": [
    "def process_row(row):\n",
    "    json_obj = {\n",
    "        \"run_id\": \"Tomislav&Rowan_Task2.2_LLAMA2_13B_CHAT\",\n",
    "        \"manual\": 0,\n",
    "        \"snt_id\": row[\"snt_id\"],\n",
    "        \"term\": row[\"term\"],\n",
    "        \"doc_id\": row[\"doc_id\"],\n",
    "        \"difficulty\": row[\"difficulty\"]\n",
    "    }\n",
    "\n",
    "    # Add definition and explanation if they are not empty\n",
    "    if row[\"difficulty\"] == \"d\":\n",
    "        definition = row.get(\"definition\", None)\n",
    "        explanation = row.get(\"explanation\", None)\n",
    "        if definition:\n",
    "            json_obj[\"definition\"] = definition\n",
    "        if explanation:\n",
    "            json_obj[\"explanation\"] = explanation\n",
    "\n",
    "    return json_obj\n",
    "\n",
    "# Example usage:\n",
    "# Assuming 'test' is your DataFrame\n",
    "json_output = []\n",
    "for index, row in test.iterrows():\n",
    "    json_output.append(process_row(row))\n",
    "\n",
    "# Write the JSON output to a file\n",
    "with open('st_t2.json', 'w') as f:\n",
    "    json.dump(json_output, f, indent=4)\n"
   ]
  },
  {
   "cell_type": "code",
   "execution_count": null,
   "metadata": {
    "id": "2SXI9RGFlWyk"
   },
   "outputs": [],
   "source": []
  }
 ],
 "metadata": {
  "colab": {
   "provenance": []
  },
  "kernelspec": {
   "display_name": "Python 3",
   "name": "python3"
  },
  "language_info": {
   "name": "python"
  }
 },
 "nbformat": 4,
 "nbformat_minor": 0
}
